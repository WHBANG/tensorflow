{
 "cells": [
  {
   "cell_type": "code",
   "execution_count": 2,
   "metadata": {},
   "outputs": [
    {
     "data": {
      "text/plain": [
       "array([[1232, 1111,   13,    1],\n",
       "       [4332, 1314,   32,    1],\n",
       "       [1311,  234,   11,    5],\n",
       "       [ 432,  232,   22,    2]])"
      ]
     },
     "execution_count": 2,
     "metadata": {},
     "output_type": "execute_result"
    }
   ],
   "source": [
    "import numpy as np\n",
    "\n",
    "us_data_path = \"./us_data.csv\"\n",
    "gk_data_path = \"./gk_data.csv\"\n",
    "\n",
    "###加载数据\n",
    "_us_data = np.loadtxt(us_data_path,delimiter=\",\",dtype=int)\n",
    "_gk_data = np.loadtxt(gk_data_path,delimiter=\",\",dtype=int)\n"
   ]
  },
  {
   "cell_type": "code",
   "execution_count": 3,
   "metadata": {},
   "outputs": [
    {
     "data": {
      "text/plain": [
       "array([[ 1213,   136,    23,     1],\n",
       "       [ 1131,  1111,   232,     0],\n",
       "       [11424,  8731,  2324,  1213],\n",
       "       [  434,   234,    12,    54]])"
      ]
     },
     "execution_count": 3,
     "metadata": {},
     "output_type": "execute_result"
    }
   ],
   "source": [
    "_us_data"
   ]
  },
  {
   "cell_type": "code",
   "execution_count": 4,
   "metadata": {},
   "outputs": [
    {
     "data": {
      "text/plain": [
       "array([[1232, 1111,   13,    1],\n",
       "       [4332, 1314,   32,    1],\n",
       "       [1311,  234,   11,    5],\n",
       "       [ 432,  232,   22,    2]])"
      ]
     },
     "execution_count": 4,
     "metadata": {},
     "output_type": "execute_result"
    }
   ],
   "source": [
    "_gk_data"
   ]
  },
  {
   "cell_type": "code",
   "execution_count": 5,
   "metadata": {},
   "outputs": [
    {
     "data": {
      "text/plain": [
       "array([[0],\n",
       "       [0],\n",
       "       [0],\n",
       "       [0]])"
      ]
     },
     "execution_count": 5,
     "metadata": {},
     "output_type": "execute_result"
    }
   ],
   "source": [
    "zeros_data = np.zeros((_us_data.shape[0],1)).astype(int)\n",
    "zeros_data"
   ]
  },
  {
   "cell_type": "code",
   "execution_count": 6,
   "metadata": {},
   "outputs": [],
   "source": [
    "ones_data = np.ones((_gk_data.shape[0],1)).astype(int)"
   ]
  },
  {
   "cell_type": "code",
   "execution_count": 7,
   "metadata": {},
   "outputs": [],
   "source": [
    "###数据的拼接\n",
    "us_data = np.hstack((_us_data,zeros_data))\n",
    "gk_data = np.hstack((_gk_data,ones_data))"
   ]
  },
  {
   "cell_type": "code",
   "execution_count": 9,
   "metadata": {},
   "outputs": [
    {
     "data": {
      "text/plain": [
       "array([[ 1213,   136,    23,     1,     0],\n",
       "       [ 1131,  1111,   232,     0,     0],\n",
       "       [11424,  8731,  2324,  1213,     0],\n",
       "       [  434,   234,    12,    54,     0],\n",
       "       [ 1232,  1111,    13,     1,     1],\n",
       "       [ 4332,  1314,    32,     1,     1],\n",
       "       [ 1311,   234,    11,     5,     1],\n",
       "       [  432,   232,    22,     2,     1]])"
      ]
     },
     "execution_count": 9,
     "metadata": {},
     "output_type": "execute_result"
    }
   ],
   "source": [
    "data = np.vstack((us_data,gk_data))\n",
    "data"
   ]
  },
  {
   "cell_type": "code",
   "execution_count": null,
   "metadata": {},
   "outputs": [],
   "source": []
  },
  {
   "cell_type": "code",
   "execution_count": null,
   "metadata": {},
   "outputs": [],
   "source": []
  }
 ],
 "metadata": {
  "kernelspec": {
   "display_name": "Python 3",
   "language": "python",
   "name": "python3"
  },
  "language_info": {
   "codemirror_mode": {
    "name": "ipython",
    "version": 3
   },
   "file_extension": ".py",
   "mimetype": "text/x-python",
   "name": "python",
   "nbconvert_exporter": "python",
   "pygments_lexer": "ipython3",
   "version": "3.7.0"
  }
 },
 "nbformat": 4,
 "nbformat_minor": 2
}
